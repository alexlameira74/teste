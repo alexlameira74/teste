{
  "nbformat": 4,
  "nbformat_minor": 0,
  "metadata": {
    "colab": {
      "name": "my first code.ipynb",
      "provenance": [],
      "authorship_tag": "ABX9TyMRdLuwO06HB+p/wRas/PKf",
      "include_colab_link": true
    },
    "kernelspec": {
      "name": "python3",
      "display_name": "Python 3"
    },
    "language_info": {
      "name": "python"
    }
  },
  "cells": [
    {
      "cell_type": "markdown",
      "metadata": {
        "id": "view-in-github",
        "colab_type": "text"
      },
      "source": [
        "<a href=\"https://colab.research.google.com/github/alexlameira74/teste/blob/main/my_first_code.ipynb\" target=\"_parent\"><img src=\"https://colab.research.google.com/assets/colab-badge.svg\" alt=\"Open In Colab\"/></a>"
      ]
    },
    {
      "cell_type": "markdown",
      "metadata": {
        "id": "DEXHuD4LgwFK"
      },
      "source": [
        "# *Hi, this' my little world!* \n",
        "##### I'm Alex Almeida<img src=\"https://media-exp1.licdn.com/dms/image/C4D03AQFC590bwhOfBw/profile-displayphoto-shrink_200_200/0/1625788081345?e=1635379200&v=beta&t=nF1lFsaN5xsQX6qrjSFP7pWpkUEpLTwF9JzDS4SejRs\" width=\"50\" height=\"50\">\n",
        "\n",
        "## This my first code under IBM course\n",
        "This job aims how to\n",
        "* Interact with Coursera's peers  \n",
        "* Start writing any code (better to say, with a little help of someone) \n",
        "* Share and receive feedback from Coursera's peers\n",
        "\n",
        "###### Ok, Let's start!!\n"
      ]
    },
    {
      "cell_type": "code",
      "metadata": {
        "colab": {
          "base_uri": "https://localhost:8080/"
        },
        "id": "EotcvmnTgFp-",
        "outputId": "34582790-78ca-4a28-bbb6-b343a19ba62c"
      },
      "source": [
        "name = input(\"What's your name, buddy?\")"
      ],
      "execution_count": 3,
      "outputs": [
        {
          "output_type": "stream",
          "text": [
            "What's your name, buddy?Samantha\n"
          ],
          "name": "stdout"
        }
      ]
    },
    {
      "cell_type": "code",
      "metadata": {
        "colab": {
          "base_uri": "https://localhost:8080/"
        },
        "id": "0bpaS5aCgS7S",
        "outputId": "27f10700-e244-434a-bf30-09d9da528699"
      },
      "source": [
        "print(\"Welcome,\",name,\"!\")"
      ],
      "execution_count": 8,
      "outputs": [
        {
          "output_type": "stream",
          "text": [
            "Welcome, Samantha !\n"
          ],
          "name": "stdout"
        }
      ]
    },
    {
      "cell_type": "code",
      "metadata": {
        "id": "oFVuG6t8gp7s"
      },
      "source": [
        ""
      ],
      "execution_count": 8,
      "outputs": []
    },
    {
      "cell_type": "markdown",
      "metadata": {
        "id": "6MmXX8JVhxfl"
      },
      "source": [
        "Please, buddy let me know your positives or negatives comments!\n",
        "<img src=\"https://media.istockphoto.com/vectors/thumbs-up-and-down-icon-vector-id1207974755?k=6&m=1207974755&s=612x612&w=0&h=Xp2PoXKrIyHm3Po244GHfjA14P8M3yCH0thMkTSrSZI=\" width=\"100\" height=\"100\">"
      ]
    }
  ]
}